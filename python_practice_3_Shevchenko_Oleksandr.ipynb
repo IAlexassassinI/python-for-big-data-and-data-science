{
  "nbformat": 4,
  "nbformat_minor": 0,
  "metadata": {
    "colab": {
      "provenance": []
    },
    "kernelspec": {
      "name": "python3",
      "display_name": "Python 3"
    },
    "language_info": {
      "name": "python"
    }
  },
  "cells": [
    {
      "cell_type": "markdown",
      "source": [
        "# I. Оператори порівняння та логічні оператори. Умови."
      ],
      "metadata": {
        "id": "qDEi2Pi-4yUC"
      }
    },
    {
      "cell_type": "markdown",
      "source": [
        "1. Створіть цілочисленну змінну зі своїм щасливим або улюбленим числом. Напишіть код, який би автоматизовував наступну задачу.\n",
        "\n",
        "Якщо число парне, помножте його на 2 та виведіть результат на екран.\n",
        "\n",
        "Але якщо число непарне, помножте його на 3 та додайте 1 і виведіть на екран."
      ],
      "metadata": {
        "id": "3v8D4Dkm43Ua"
      }
    },
    {
      "cell_type": "code",
      "execution_count": 5,
      "metadata": {
        "id": "dlVjc-Nu4bmb",
        "colab": {
          "base_uri": "https://localhost:8080/"
        },
        "outputId": "0a9007dc-2aef-47d7-e32a-5c17ca95f0cf"
      },
      "outputs": [
        {
          "output_type": "stream",
          "name": "stdout",
          "text": [
            "32\n",
            "64\n",
            "31\n",
            "94\n"
          ]
        }
      ],
      "source": [
        "int_variable = 32\n",
        "print(int_variable)\n",
        "\n",
        "if ((int_variable % 2) == 0):\n",
        "    int_variable = int_variable * 2\n",
        "else:\n",
        "    int_variable = int_variable * 3 + 1\n",
        "\n",
        "print(int_variable)\n",
        "\n",
        "int_variable = 31\n",
        "print(int_variable)\n",
        "\n",
        "if ((int_variable % 2) == 0):\n",
        "    int_variable = int_variable * 2\n",
        "else:\n",
        "    int_variable = int_variable * 3 + 1\n",
        "\n",
        "print(int_variable)"
      ]
    },
    {
      "cell_type": "markdown",
      "source": [
        "2. Створіть змінну, що посилається на список. Якщо список пустий, додайте будь-який елемент у кінець списку. Якщо ж ні, то нічого не робіть."
      ],
      "metadata": {
        "id": "H669P0QK5BI_"
      }
    },
    {
      "cell_type": "code",
      "source": [
        "some_list = [1, 2, 3, 4, 5]\n",
        "some_empty_list = []\n",
        "\n",
        "\n",
        "current_list = some_list\n",
        "\n",
        "print(current_list)\n",
        "\n",
        "if (not current_list):\n",
        "    current_list.append(6)\n",
        "\n",
        "print(current_list)\n",
        "\n",
        "current_list = some_empty_list\n",
        "\n",
        "print(current_list)\n",
        "\n",
        "if (not current_list):\n",
        "    current_list.append(6)\n",
        "\n",
        "print(current_list)\n"
      ],
      "metadata": {
        "id": "ecWlfra45f6E",
        "colab": {
          "base_uri": "https://localhost:8080/"
        },
        "outputId": "92befbd7-83d1-4ecc-af09-ea1f53942853"
      },
      "execution_count": 7,
      "outputs": [
        {
          "output_type": "stream",
          "name": "stdout",
          "text": [
            "[1, 2, 3, 4, 5]\n",
            "[1, 2, 3, 4, 5]\n",
            "[]\n",
            "[6]\n"
          ]
        }
      ]
    },
    {
      "cell_type": "markdown",
      "source": [
        "3. Створіть рядок зі своїм імʼям латинкою. Напишіть код, який би автоматизовував наступну задачу.\n",
        "\n",
        "Якщо в імені є літера \"а\"\n",
        " або \"i\", Виведіть на екран повідомлення \"A or I is in the name\".\n",
        "\n",
        "\n",
        "\n",
        "Якщо в імені є літери \"o\" та \"n\", Виведіть на екран повідомлення \"O and N is in the name\".\n",
        "\n",
        "Також якщо в імені немає літери \"о\", але є \"n\", Виведіть на екран повідомлення \"Only N is in the name\".\n",
        "\n",
        "В решті випадків виведіть на екран повідомлення \"There is no N in the name, but there might be O\".\n",
        "\n",
        "Зверніть увагу, що, наприклад, для імені \"Antonina\" буде виведено два повідомлення."
      ],
      "metadata": {
        "id": "h9Y3cMUd5h85"
      }
    },
    {
      "cell_type": "code",
      "source": [
        "my_name = \"Oleksandr\"\n",
        "\n",
        "if (('a' in my_name) or (('i' in my_name))):\n",
        "    print(\"A or I is in the name\")\n",
        "if ('n' in my_name):\n",
        "    if ('o' in my_name):\n",
        "        print(\"O and N is in the name\")\n",
        "    else:\n",
        "        print(\"Only N is in the name\")\n",
        "else:\n",
        "    print(\"There is no N in the name, but there might be O\")\n",
        "\n",
        "# it says that only N in name, because code checks small letter \"o\" however in name there capital leter \"O\" and task didnt specify to determine it equaly"
      ],
      "metadata": {
        "id": "bUH4LUx35u52",
        "colab": {
          "base_uri": "https://localhost:8080/"
        },
        "outputId": "c4f72e45-929c-4f45-c771-c1ee16a36788"
      },
      "execution_count": 62,
      "outputs": [
        {
          "output_type": "stream",
          "name": "stdout",
          "text": [
            "A or I is in the name\n",
            "Only N is in the name\n"
          ]
        }
      ]
    },
    {
      "cell_type": "markdown",
      "source": [
        "# II. Comprehensions."
      ],
      "metadata": {
        "id": "wPCXJv4354cU"
      }
    },
    {
      "cell_type": "markdown",
      "source": [
        "4. Створіть список, використовуючи if (не if-else), range та comprehension."
      ],
      "metadata": {
        "id": "jULLW5jN55Pw"
      }
    },
    {
      "cell_type": "code",
      "source": [
        "created_list = [elem for elem in range(10) if ((elem % 2) == 0)]\n",
        "print(created_list)"
      ],
      "metadata": {
        "id": "mlZalnVC6W3F",
        "colab": {
          "base_uri": "https://localhost:8080/"
        },
        "outputId": "4f5ef5a1-9bd6-42b4-9af7-a2a5ee0794e1"
      },
      "execution_count": 13,
      "outputs": [
        {
          "output_type": "stream",
          "name": "stdout",
          "text": [
            "[0, 2, 4, 6, 8]\n"
          ]
        }
      ]
    },
    {
      "cell_type": "markdown",
      "source": [
        "5. Створіть словник, використовуючи dict comprehension, що містить if else. Коли слід використовувати comprehensions, а коли їх слід уникати?"
      ],
      "metadata": {
        "id": "LqhEQ4JW6XcC"
      }
    },
    {
      "cell_type": "code",
      "source": [
        "created_dictionary = {key: (key if (key % 2) != 0 else key/2) for key in range(10)}\n",
        "print(created_dictionary)"
      ],
      "metadata": {
        "id": "1yVaFbOs6hta",
        "colab": {
          "base_uri": "https://localhost:8080/"
        },
        "outputId": "1f0c49f1-61c4-47f7-8971-51a11bd32078"
      },
      "execution_count": 18,
      "outputs": [
        {
          "output_type": "stream",
          "name": "stdout",
          "text": [
            "{0: 0.0, 1: 1, 2: 1.0, 3: 3, 4: 2.0, 5: 5, 6: 3.0, 7: 7, 8: 4.0, 9: 9}\n"
          ]
        }
      ]
    },
    {
      "cell_type": "markdown",
      "source": [
        "comprehensions слід використовувати коли потрібно згенерувати відносно просту послідовність з одним\\двума умовами, все що складніше краще вже робити повноцінною функцією"
      ],
      "metadata": {
        "id": "wbkzNhKq6hzz"
      }
    },
    {
      "cell_type": "markdown",
      "source": [
        "6. Створіть список з рядками та запишіть його у змінну. Створіть ще один список на основі попереднього, де кожен рядок буде містити тільки три перших заглавних символи. Наприклад: ['hello', 'i', 'dont', 'care'] -> ['HEL', 'I', 'DON', 'CAR']. Використання comprehensions обовʼязкове."
      ],
      "metadata": {
        "id": "ZlqB8G3G6lHP"
      }
    },
    {
      "cell_type": "code",
      "source": [
        "first_list = ['hel', 'i', 'do', 'care', '']\n",
        "\n",
        "second_list = [elem[0:3:1].upper() for elem in first_list]\n",
        "\n",
        "print(first_list)\n",
        "print(second_list)"
      ],
      "metadata": {
        "id": "nw6rz0bR60VC",
        "colab": {
          "base_uri": "https://localhost:8080/"
        },
        "outputId": "cdfd858f-d548-4e3c-abcf-e2be4084ab5b"
      },
      "execution_count": 59,
      "outputs": [
        {
          "output_type": "stream",
          "name": "stdout",
          "text": [
            "['hel', 'i', 'do', 'care', '']\n",
            "['HEL', 'I', 'DO', 'CAR', '']\n"
          ]
        }
      ]
    },
    {
      "cell_type": "markdown",
      "source": [
        "# III. Цикли."
      ],
      "metadata": {
        "id": "Tj573IAH64Fz"
      }
    },
    {
      "cell_type": "markdown",
      "source": [
        "7. Продемонструйте роботу циклу while. Не можна використовувати True для запуску циклу, щоб уникнути безкінечного циклу!"
      ],
      "metadata": {
        "id": "tN_33xdE65H5"
      }
    },
    {
      "cell_type": "code",
      "source": [
        "not_empty_list = \"it_working\"\n",
        "while (not_empty_list):\n",
        "    print(not_empty_list)\n",
        "    not_empty_list = not_empty_list[0:-1:1]\n",
        "\n"
      ],
      "metadata": {
        "id": "Kd9FO6yG63P5",
        "colab": {
          "base_uri": "https://localhost:8080/"
        },
        "outputId": "d40d55b2-068b-447e-9fa8-e63554d44be2"
      },
      "execution_count": 64,
      "outputs": [
        {
          "output_type": "stream",
          "name": "stdout",
          "text": [
            "it_working\n",
            "it_workin\n",
            "it_worki\n",
            "it_work\n",
            "it_wor\n",
            "it_wo\n",
            "it_w\n",
            "it_\n",
            "it\n",
            "i\n"
          ]
        }
      ]
    },
    {
      "cell_type": "markdown",
      "source": [
        "8. Напишіть програму, яка виведе на екран непарні числа в діапазоні від 0 до 20 включно."
      ],
      "metadata": {
        "id": "x2CmfZO-7pW0"
      }
    },
    {
      "cell_type": "code",
      "source": [
        "for i in range(21):\n",
        "    if (i%2 != 0):\n",
        "        print(i)"
      ],
      "metadata": {
        "id": "aCSRYA6s7tkF",
        "colab": {
          "base_uri": "https://localhost:8080/"
        },
        "outputId": "fc1a2a6a-50e6-47ce-8461-229602907ca9"
      },
      "execution_count": 60,
      "outputs": [
        {
          "output_type": "stream",
          "name": "stdout",
          "text": [
            "1\n",
            "3\n",
            "5\n",
            "7\n",
            "9\n",
            "11\n",
            "13\n",
            "15\n",
            "17\n",
            "19\n"
          ]
        }
      ]
    },
    {
      "cell_type": "markdown",
      "source": [
        "9. Створіть список з елементами булевого типу або None. Використовуючи цикли, отримайте в результаті список з кортежами, де перший елемент кортежу - індекс(ціле число), а другий елемент - відповідне значення з першого списку.\n",
        "\n",
        "Наприклад, [True, True, None, False] -> [(0, True), (1, True), (2, None), (3, False)]"
      ],
      "metadata": {
        "id": "MDWNocZD7t_B"
      }
    },
    {
      "cell_type": "code",
      "source": [
        "bool_list = [True, True, None, False]\n",
        "res_list = []\n",
        "for i in range(len(bool_list)):\n",
        "    res_list.append((i, bool_list[i]))\n",
        "print(res_list)\n",
        "\n",
        "res_list2 = [elem for elem in enumerate(bool_list)]\n",
        "print(res_list2)\n"
      ],
      "metadata": {
        "id": "0EUyjMdp7yfh",
        "colab": {
          "base_uri": "https://localhost:8080/"
        },
        "outputId": "46b63ffd-5630-49b0-fd4d-77c6f4d5714a"
      },
      "execution_count": 37,
      "outputs": [
        {
          "output_type": "stream",
          "name": "stdout",
          "text": [
            "[(0, True), (1, True), (2, None), (3, False)]\n",
            "[(0, True), (1, True), (2, None), (3, False)]\n"
          ]
        }
      ]
    },
    {
      "cell_type": "markdown",
      "source": [
        "10. Створіть словник, де ключі - назви книжок, а значення - їхня кількість у наявності в Вашій міні-бібліотеці. Бібліотека має містити щонайменше 6 книжок (6 пар значень у словнику) і щонайбільше 10 (пар значень). Використовуючи цикли, оновіть словник (не створюйте новий) так, щоби кількість книг у наявності збільшилося на 5 кожної книги. Наприклад,\n",
        "{'It': 3, 'Fault stars': 10, 'Bible': 17, 'Psychological romance': 4, 'Harry Potter': 13} -> {'It': 8, 'Fault stars': 15, 'Bible': 22, 'Psychological romance': 9, 'Harry Potter': 18}"
      ],
      "metadata": {
        "id": "-6XUqlcG7zKs"
      }
    },
    {
      "cell_type": "code",
      "source": [
        "book_dictionary = {'It': 3, 'Fault stars': 10, 'Bible': 17, 'Psychological romance': 4, 'Harry Potter': 13}\n",
        "print(book_dictionary)\n",
        "\n",
        "for key in book_dictionary:\n",
        "    book_dictionary[key] += 5\n",
        "\n",
        "print(book_dictionary)\n"
      ],
      "metadata": {
        "id": "Ceoj9wwb791q",
        "colab": {
          "base_uri": "https://localhost:8080/"
        },
        "outputId": "d2e775a3-193d-4544-f95e-c5a8adbe2053"
      },
      "execution_count": 38,
      "outputs": [
        {
          "output_type": "stream",
          "name": "stdout",
          "text": [
            "{'It': 3, 'Fault stars': 10, 'Bible': 17, 'Psychological romance': 4, 'Harry Potter': 13}\n",
            "{'It': 8, 'Fault stars': 15, 'Bible': 22, 'Psychological romance': 9, 'Harry Potter': 18}\n"
          ]
        }
      ]
    },
    {
      "cell_type": "markdown",
      "source": [
        "11. Визначте цілочислену змінну n, що належить проміжку від 4 до 10 включно. Використовуючи цикли, виведіть в консоль наступний патерн.\n",
        "\n",
        "#\n",
        "##\n",
        "###\n",
        "####\n",
        "\n",
        "... #*n\n"
      ],
      "metadata": {
        "id": "QLzyJM288AC7"
      }
    },
    {
      "cell_type": "code",
      "source": [
        "n = 8\n",
        "\n",
        "for i in range(1, n+1):\n",
        "    print(\"#\"*i)\n",
        "\n",
        "print(\"\\n\")\n",
        "\n",
        "for i in range(1, n+1):\n",
        "    for j in range(i):\n",
        "        print(\"#\", end =\"\")\n",
        "    print()\n"
      ],
      "metadata": {
        "id": "KOpng87s8Duz",
        "colab": {
          "base_uri": "https://localhost:8080/"
        },
        "outputId": "dc6a4b4c-9a31-442b-8c21-ac1088ec7853"
      },
      "execution_count": 46,
      "outputs": [
        {
          "output_type": "stream",
          "name": "stdout",
          "text": [
            "#\n",
            "##\n",
            "###\n",
            "####\n",
            "#####\n",
            "######\n",
            "#######\n",
            "########\n",
            "\n",
            "\n",
            "#\n",
            "##\n",
            "###\n",
            "####\n",
            "#####\n",
            "######\n",
            "#######\n",
            "########\n"
          ]
        }
      ]
    },
    {
      "cell_type": "markdown",
      "source": [
        "12. Гра \"Нумо вгадай\".\n",
        "Розробіть просту гру, де користувач має вгадати випадкове число від 1 до 100. Для генерації випадкового числа використовуйте функцію random.randint(a, b) (тут a та b включно). Для отримання числа з консолі використовуйте функцію input(), результат якої обовʼязково явно приведіть до типу int.\n",
        "\n",
        "Підказка: використовуйте цикл while та умови if-else, щоб повідомити користувачу піказки (напр. \"Більше\", \"Менше\") поки користувач не вгадає. По завершенню виведіть кількість спроб, які знадобилися для вгадування."
      ],
      "metadata": {
        "id": "_bd-bqAT8EHn"
      }
    },
    {
      "cell_type": "code",
      "source": [
        "import random\n",
        "\n",
        "game_is_running = True\n",
        "while (game_is_running):\n",
        "    round_is_running = True\n",
        "    random_num = random.randint(1, 100)\n",
        "    number_of_guesses = 0\n",
        "\n",
        "    while (round_is_running):\n",
        "        print(\"Print your guess\")\n",
        "        guess = int(input())\n",
        "        number_of_guesses += 1\n",
        "        if (guess == random_num):\n",
        "            print(\"Congratulation !!!\")\n",
        "            round_is_running = False\n",
        "        elif (guess < random_num):\n",
        "            print(\"Number that you guessing bigger than yours\")\n",
        "        else:\n",
        "            print(\"Number that you guessing less than yours\")\n",
        "\n",
        "    print(\"You used {} guesses\".format(number_of_guesses))\n",
        "    print('Print \"stop\" to stop, anything else to continue')\n",
        "    if (input() == \"stop\"):\n",
        "        game_is_running = False\n",
        "        break"
      ],
      "metadata": {
        "id": "IK9nnxFK8Hkl",
        "colab": {
          "base_uri": "https://localhost:8080/"
        },
        "outputId": "6349560b-47d4-4881-b265-f76131276720"
      },
      "execution_count": 66,
      "outputs": [
        {
          "name": "stdout",
          "output_type": "stream",
          "text": [
            "Print your guess\n",
            "50\n",
            "Number that you guessing less than yours\n",
            "Print your guess\n",
            "25\n",
            "Number that you guessing less than yours\n",
            "Print your guess\n",
            "12\n",
            "Number that you guessing less than yours\n",
            "Print your guess\n",
            "6\n",
            "Number that you guessing less than yours\n",
            "Print your guess\n",
            "3\n",
            "Number that you guessing less than yours\n",
            "Print your guess\n",
            "2\n",
            "Congratulation !!!\n",
            "You used 6 guesses\n",
            "Print \"stop\" to stop, anything else to continue\n",
            "stop\n"
          ]
        }
      ]
    },
    {
      "cell_type": "markdown",
      "source": [
        "# Вітаю! Ви велика(ий) молодець, що впоралась(вся). Похваліть себе та побалуйте чимось приємним. Я Вами пишаюся."
      ],
      "metadata": {
        "id": "PXoXWb7Z8IGi"
      }
    }
  ]
}