{
  "nbformat": 4,
  "nbformat_minor": 0,
  "metadata": {
    "colab": {
      "provenance": []
    },
    "kernelspec": {
      "name": "python3",
      "display_name": "Python 3"
    },
    "language_info": {
      "name": "python"
    }
  },
  "cells": [
    {
      "cell_type": "markdown",
      "source": [
        "# I. OOP"
      ],
      "metadata": {
        "id": "5qV_sehzFCTp"
      }
    },
    {
      "cell_type": "markdown",
      "source": [
        "1. (6б). Створіть клас Animal, додайте три атрибути, один з яких має значення за замовчуванням та два методи на свій розсуд."
      ],
      "metadata": {
        "id": "tx_U_hOALyfg"
      }
    },
    {
      "cell_type": "code",
      "source": [
        "class Animal:\n",
        "    def __init__(self, name, population, in_red_list=False):\n",
        "        self.name = name\n",
        "        self.population = population\n",
        "        self.in_red_list = in_red_list\n",
        "\n",
        "    def who(self):\n",
        "        print(self.name)\n",
        "\n",
        "    def change_population(self, delta):\n",
        "        self.population += delta\n",
        "        if(self.population < 0):\n",
        "            self.population = 0\n",
        "        return self.population\n",
        "\n"
      ],
      "metadata": {
        "id": "-Vf895KaL88N"
      },
      "execution_count": 73,
      "outputs": []
    },
    {
      "cell_type": "markdown",
      "source": [
        "2. (2б). Створіть два обʼєкти цього класу, де один з обʼєктів створюється із дефолтним значенням атрибуту. На одному обʼєкті отримайте значення його атрибуту, а на іншому викличте один з його методів."
      ],
      "metadata": {
        "id": "X_UlOMB0L93w"
      }
    },
    {
      "cell_type": "code",
      "source": [
        "test_animal_1 = Animal(\"AAA\", 111)\n",
        "test_animal_2 = Animal(\"BBB\", 222, True)\n",
        "\n",
        "print(test_animal_1.in_red_list)\n",
        "print(test_animal_2.change_population(100))\n"
      ],
      "metadata": {
        "id": "7gBu0ESOMCpG",
        "colab": {
          "base_uri": "https://localhost:8080/"
        },
        "outputId": "eedd0dbd-f141-435a-8628-9e72f4c831f1"
      },
      "execution_count": 74,
      "outputs": [
        {
          "output_type": "stream",
          "name": "stdout",
          "text": [
            "False\n",
            "322\n"
          ]
        }
      ]
    },
    {
      "cell_type": "markdown",
      "source": [
        "3. (5б). Створіть клас, де атрибути мають різні рівні доступу. Спробуйте отримати їхні значення та опишіть результати."
      ],
      "metadata": {
        "id": "HoqSCZt1MHn5"
      }
    },
    {
      "cell_type": "code",
      "source": [
        "class AccessOfAtributes:\n",
        "    publicAtrib = 1;\n",
        "    _protectedAtrib = 2;\n",
        "    __privateAtrib = 3;\n",
        "\n",
        "    def give_public(self):\n",
        "        return self.publicAtrib\n",
        "\n",
        "    def give_protected(self):\n",
        "        return self._protectedAtrib\n",
        "\n",
        "    def give_private(self):\n",
        "        return self.__privateAtrib\n",
        "\n",
        "\n",
        "atribTest = AccessOfAtributes()\n",
        "print(atribTest.publicAtrib)\n",
        "print(atribTest._protectedAtrib)\n",
        "try:\n",
        "    print(atribTest.__privateAtrib)\n",
        "except Exception as e:\n",
        "    print(f\"Error: {e}\")\n",
        "\n",
        "print(atribTest.give_public())\n",
        "print(atribTest.give_protected())\n",
        "print(atribTest.give_private())\n",
        "# in class we can access to all atributes, outside of class we cant access to private atribute (and even can access protected atribute)"
      ],
      "metadata": {
        "id": "r9b3vJxBMSPV",
        "colab": {
          "base_uri": "https://localhost:8080/"
        },
        "outputId": "c5290b90-bd9d-4e6c-fb16-cf1a84571ca6"
      },
      "execution_count": 75,
      "outputs": [
        {
          "output_type": "stream",
          "name": "stdout",
          "text": [
            "1\n",
            "2\n",
            "Error: 'AccessOfAtributes' object has no attribute '__privateAtrib'\n",
            "1\n",
            "2\n",
            "3\n"
          ]
        }
      ]
    },
    {
      "cell_type": "markdown",
      "source": [
        "4. (7б). Як ви розумієте термін self? Для чого використовується метод __init __?"
      ],
      "metadata": {
        "id": "5op2m2vgMSkZ"
      }
    },
    {
      "cell_type": "markdown",
      "source": [
        "термін self це вказівник на поточний об'єкт, над яким виконується функція, й потрібен щоб доступитися до даних об'єкту\n",
        "\n",
        "__init__ використовується для того щоб визначити(ініцілізуювати) всі поля об'єкта при його створені (\"конструктор\" в інших мовах)"
      ],
      "metadata": {
        "id": "DyiPqNRvMasx"
      }
    },
    {
      "cell_type": "markdown",
      "source": [
        "5. (9б). Створіть клас Фігура без атрибутів, з методом get_area для отримання площі фігури, що повертає 0 та __add __, який приймає self та other в якості аргументів, а повертає суму площин фігур self та other."
      ],
      "metadata": {
        "id": "-6X8EGfjMd2y"
      }
    },
    {
      "cell_type": "code",
      "source": [
        "class Figure:\n",
        "    def get_area():\n",
        "        return 0\n",
        "\n",
        "    def __add__(self, other):\n",
        "        return self.get_area() + other.get_area()\n"
      ],
      "metadata": {
        "id": "4rvO_wYUMaEr"
      },
      "execution_count": 76,
      "outputs": []
    },
    {
      "cell_type": "markdown",
      "source": [
        "6. (11б). Створіть 2 дочірніх класи від Фігури: Трикутник та Коло, які мають атрибути, необхідні для розрахунку площин. Визначте метод get_area в кожному з них так, щоби вони розраховували площу в залежності від формули для кожного типу фігури. Створіть обʼєкт класу Трикутник та обʼєкт класу Коло. Виконайте операцію суми за допомогою оператора + між ними."
      ],
      "metadata": {
        "id": "SFcKnnv5Mo_z"
      }
    },
    {
      "cell_type": "code",
      "source": [
        "import math\n",
        "\n",
        "class Triangle(Figure):\n",
        "    def __init__(self, point1, point2, point3):\n",
        "        self.x1, self.y1 = point1\n",
        "        self.x2, self.y2 = point2\n",
        "        self.x3, self.y3 = point3\n",
        "\n",
        "    def get_area(self):\n",
        "        area = 0.5 * abs(self.x1*(self.y2-self.y3) +\n",
        "                         self.x2*(self.y3-self.y1) +\n",
        "                         self.x3*(self.y1-self.y2))\n",
        "        return area\n",
        "\n",
        "class Circle(Figure):\n",
        "    def __init__(self, radius):\n",
        "        self.radius = radius\n",
        "\n",
        "    def get_area(self):\n",
        "        return math.pi * self.radius**2\n",
        "\n",
        "\n",
        "triangle_1 = Triangle((0, 0), (0, 10), (30, 0))\n",
        "circle_1 = Circle(5)\n",
        "\n",
        "res = triangle_1 + circle_1\n",
        "print(res)"
      ],
      "metadata": {
        "id": "H3GVNr69Muf3",
        "colab": {
          "base_uri": "https://localhost:8080/"
        },
        "outputId": "4556377e-8fd6-4d01-f9e3-8e08ca3fc035"
      },
      "execution_count": 77,
      "outputs": [
        {
          "output_type": "stream",
          "name": "stdout",
          "text": [
            "228.53981633974485\n"
          ]
        }
      ]
    },
    {
      "cell_type": "markdown",
      "source": [
        "7. (3б). Продемонструйте різницю між isinstance та issubclass."
      ],
      "metadata": {
        "id": "HCvR206YMvLK"
      }
    },
    {
      "cell_type": "code",
      "source": [
        "\n",
        "print(isinstance(triangle_1, Triangle))\n",
        "print(isinstance(circle_1, Triangle))\n",
        "print(isinstance(circle_1, Figure))\n",
        "\n",
        "\n",
        "print(issubclass(Triangle, Figure))\n",
        "print(issubclass(Figure, Triangle))\n",
        "print(issubclass(Triangle, Circle))\n",
        "print(issubclass(Figure, Figure))\n",
        "print(issubclass(Animal, Figure))\n",
        "\n",
        "\n",
        "try:\n",
        "    print(issubclass(triangle_1, Figure))\n",
        "except Exception as e:\n",
        "    print(f\"Error: {e}\")\n"
      ],
      "metadata": {
        "id": "L_V1bBvDM0GN",
        "colab": {
          "base_uri": "https://localhost:8080/"
        },
        "outputId": "d5d966fc-0d4a-4125-ab3c-956a70ac4050"
      },
      "execution_count": 78,
      "outputs": [
        {
          "output_type": "stream",
          "name": "stdout",
          "text": [
            "True\n",
            "False\n",
            "True\n",
            "True\n",
            "False\n",
            "False\n",
            "True\n",
            "False\n",
            "Error: issubclass() arg 1 must be a class\n"
          ]
        }
      ]
    },
    {
      "cell_type": "markdown",
      "source": [
        "8. (13б). Створіть клас BankAccount з приватними атрибутами balance та account_number. Реалізуйте методи поповнення та зняття коштів, забезпечивши належну інкапсуляцію. Підказка: використовуйте декоратори property та setter."
      ],
      "metadata": {
        "id": "jjsaBZ-iM0Qq"
      }
    },
    {
      "cell_type": "code",
      "source": [
        "class BankAccount:\n",
        "    def __init__(self, initial_balance, account_number):\n",
        "        self.__balance = initial_balance\n",
        "        self.__account_number = account_number\n",
        "\n",
        "    @property\n",
        "    def account_number(self):\n",
        "        return self.__account_number\n",
        "\n",
        "    @property\n",
        "    def balance(self):\n",
        "        return self.__balance\n",
        "\n",
        "    @balance.setter\n",
        "    def balance(self, balance):\n",
        "        if balance < 0:\n",
        "            print(\"Balance cannot be negative\")\n",
        "        else:\n",
        "            self.__balance = balance\n",
        "\n",
        "    def deposit(self, money):\n",
        "        if money > 0:\n",
        "            self.balance += money\n",
        "            print(f\"Successful deposit on {self.account_number} new balance: {self.balance}\")\n",
        "        else:\n",
        "            print(\"Deposite must be greater than 0\")\n",
        "\n",
        "    def withdraw(self, amount):\n",
        "        if amount <= 0:\n",
        "            print(\"Withdrawal must be greater than 0\")\n",
        "            return\n",
        "        if amount <= self.balance:\n",
        "            self.balance -= amount\n",
        "            print(f\"Successful withdrawal on {self.account_number} new balance: {self.balance}\")\n",
        "        else:\n",
        "            print(f\"Insufficient funds on {self.account_number}\")\n",
        "\n",
        "\n",
        "\n",
        "acc_1 = BankAccount(100, 1)\n",
        "acc_2 = BankAccount(300, 2)\n",
        "\n",
        "acc_1.deposit(-100)\n",
        "acc_1.deposit(0)\n",
        "acc_1.deposit(100)\n",
        "\n",
        "acc_2.withdraw(-100)\n",
        "acc_2.withdraw(0)\n",
        "acc_2.withdraw(100)\n",
        "\n",
        "acc_2.withdraw(400)"
      ],
      "metadata": {
        "id": "xCvZ7lh8M7YA",
        "colab": {
          "base_uri": "https://localhost:8080/"
        },
        "outputId": "879f499a-4aeb-4e7c-865b-57814423560e"
      },
      "execution_count": 79,
      "outputs": [
        {
          "output_type": "stream",
          "name": "stdout",
          "text": [
            "Deposite must be greater than 0\n",
            "Deposite must be greater than 0\n",
            "Successful deposit on 1 new balance: 200\n",
            "Withdrawal must be greater than 0\n",
            "Withdrawal must be greater than 0\n",
            "Successful withdrawal on 2 new balance: 200\n",
            "Insufficient funds on 2\n"
          ]
        }
      ]
    },
    {
      "cell_type": "markdown",
      "source": [
        "9. (11б). Створіть клас Library, який містить список об'єктів типу Book. Реалізуйте методи для додавання книги, видалення книги та відображення списку книг."
      ],
      "metadata": {
        "id": "tIzL2SJTM8ft"
      }
    },
    {
      "cell_type": "code",
      "source": [
        "class Book:\n",
        "    def __init__(self, title):\n",
        "        self.title = title\n",
        "\n",
        "    def __str__(self):\n",
        "        return self.title\n",
        "\n",
        "\n",
        "class Library:\n",
        "    def __init__(self):\n",
        "        self.books = []\n",
        "\n",
        "    def add_book(self, book):\n",
        "        self.books.append(book)\n",
        "\n",
        "    def remove_book(self, book_title):\n",
        "        for book in self.books:\n",
        "            if book.title == book_title:\n",
        "                self.books.remove(book)\n",
        "                return\n",
        "\n",
        "    def remove_all_books_by_title(self, book_title):\n",
        "        self.books = list(filter(lambda book: book.title != book_title,\n",
        "                                 self.books))\n",
        "\n",
        "\n",
        "    def display_books(self):\n",
        "        if not self.books:\n",
        "            print(\"Library is empty\")\n",
        "        else:\n",
        "            print(\"Books in the Library:\")\n",
        "            for book in self.books:\n",
        "                print(book)\n",
        "\n",
        "library_1 = Library()\n",
        "book_1 = Book(\"AAA\")\n",
        "book_2 = Book(\"BBB\")\n",
        "book_3 = Book(\"CCC\")\n",
        "book_4 = Book(\"AAA\")\n",
        "\n",
        "library_1.display_books()\n",
        "\n",
        "library_1.add_book(book_1)\n",
        "\n",
        "library_1.display_books()\n",
        "\n",
        "library_1.add_book(book_2)\n",
        "library_1.add_book(book_3)\n",
        "library_1.add_book(book_4)\n",
        "library_1.add_book(book_1)\n",
        "\n",
        "library_1.display_books()\n",
        "\n",
        "library_1.remove_book(\"AAA\")\n",
        "\n",
        "library_1.display_books()\n",
        "\n",
        "library_1.remove_all_books_by_title(\"AAA\")\n",
        "\n",
        "library_1.display_books()"
      ],
      "metadata": {
        "id": "HWxfJKLtNAUZ",
        "colab": {
          "base_uri": "https://localhost:8080/"
        },
        "outputId": "548881a4-42a5-4883-c94f-e15cc26162fd"
      },
      "execution_count": 80,
      "outputs": [
        {
          "output_type": "stream",
          "name": "stdout",
          "text": [
            "Library is empty\n",
            "Books in the Library:\n",
            "AAA\n",
            "Books in the Library:\n",
            "AAA\n",
            "BBB\n",
            "CCC\n",
            "AAA\n",
            "AAA\n",
            "Books in the Library:\n",
            "BBB\n",
            "CCC\n",
            "AAA\n",
            "AAA\n",
            "Books in the Library:\n",
            "BBB\n",
            "CCC\n"
          ]
        }
      ]
    },
    {
      "cell_type": "markdown",
      "source": [
        "10. (13б). Створіть клас Person з атрибутами name та age. Створіть ще один клас Employee з такими атрибутами, як department та salary. Створіть клас Manager, який успадковує обидва класи Person та Employee. Продемонструйте використання множинної спадковості, створивши обʼєкт класу Manager та отримавши mro для цього класу."
      ],
      "metadata": {
        "id": "lmV8pAwwNIqu"
      }
    },
    {
      "cell_type": "code",
      "source": [
        "class Person:\n",
        "    def __init__(self, name, age):\n",
        "        self.name = name\n",
        "        self.age = age\n",
        "\n",
        "    def do_somethin_as_persom(self):\n",
        "        print(f\"person {self.name}\")\n",
        "\n",
        "class Employee:\n",
        "    def __init__(self, department, salary):\n",
        "        self.department = department\n",
        "        self.salary = salary\n",
        "\n",
        "    def do_somethin_as_employee(self):\n",
        "        print(f\"employee {self.department}\")\n",
        "\n",
        "class Manager(Person, Employee):\n",
        "    def __init__(self, name, age, department, salary):\n",
        "        Person.__init__(self, name, age)\n",
        "        Employee.__init__(self, department, salary)\n",
        "\n",
        "    def do_somethin_as_manager(self):\n",
        "        print(\"manager\")\n",
        "\n",
        "\n",
        "manager_1 = Manager(name=\"AAA\", age=111, department=\"aaa\", salary=22222)\n",
        "\n",
        "\n",
        "manager_1.do_somethin_as_persom()\n",
        "manager_1.do_somethin_as_employee()\n",
        "manager_1.do_somethin_as_manager()\n",
        "print(f\"age:{manager_1.age}, departament:{manager_1.salary}\")\n",
        "\n",
        "print(f\"mro: {Manager.mro()}\")"
      ],
      "metadata": {
        "id": "R49grKlWNPeN",
        "colab": {
          "base_uri": "https://localhost:8080/"
        },
        "outputId": "414398c5-af54-4440-d377-03ced998afaf"
      },
      "execution_count": 81,
      "outputs": [
        {
          "output_type": "stream",
          "name": "stdout",
          "text": [
            "person AAA\n",
            "employee aaa\n",
            "manager\n",
            "age:111, departament:22222\n",
            "mro: [<class '__main__.Manager'>, <class '__main__.Person'>, <class '__main__.Employee'>, <class 'object'>]\n"
          ]
        }
      ]
    },
    {
      "cell_type": "markdown",
      "source": [
        "# II. Iterator"
      ],
      "metadata": {
        "id": "dIJyUiNBFG8G"
      }
    },
    {
      "cell_type": "markdown",
      "source": [
        "11. (4б). Визначте рядок(str) з 4ма різними за значенням символами. Створіть ітератор на основі цього рядка. Викличте 5 разів функцію next на ітераторі, 4ри перших з них огорніть у ф-цію print()."
      ],
      "metadata": {
        "id": "13vsm0NyKIzL"
      }
    },
    {
      "cell_type": "code",
      "source": [
        "str_1 = \"abcd\"\n",
        "iter_1 = iter(str_1)\n",
        "print(next(iter_1))\n",
        "print(next(iter_1))\n",
        "print(next(iter_1))\n",
        "print(next(iter_1))\n",
        "next(iter_1)"
      ],
      "metadata": {
        "id": "81ntabAkKuz-",
        "colab": {
          "base_uri": "https://localhost:8080/",
          "height": 249
        },
        "outputId": "dfee9f48-bb3a-4cbc-91d2-b51709a5af89"
      },
      "execution_count": 82,
      "outputs": [
        {
          "output_type": "stream",
          "name": "stdout",
          "text": [
            "a\n",
            "b\n",
            "c\n",
            "d\n"
          ]
        },
        {
          "output_type": "error",
          "ename": "StopIteration",
          "evalue": "",
          "traceback": [
            "\u001b[0;31m---------------------------------------------------------------------------\u001b[0m",
            "\u001b[0;31mStopIteration\u001b[0m                             Traceback (most recent call last)",
            "\u001b[0;32m<ipython-input-82-b9b8f49b8411>\u001b[0m in \u001b[0;36m<cell line: 7>\u001b[0;34m()\u001b[0m\n\u001b[1;32m      5\u001b[0m \u001b[0mprint\u001b[0m\u001b[0;34m(\u001b[0m\u001b[0mnext\u001b[0m\u001b[0;34m(\u001b[0m\u001b[0miter_1\u001b[0m\u001b[0;34m)\u001b[0m\u001b[0;34m)\u001b[0m\u001b[0;34m\u001b[0m\u001b[0;34m\u001b[0m\u001b[0m\n\u001b[1;32m      6\u001b[0m \u001b[0mprint\u001b[0m\u001b[0;34m(\u001b[0m\u001b[0mnext\u001b[0m\u001b[0;34m(\u001b[0m\u001b[0miter_1\u001b[0m\u001b[0;34m)\u001b[0m\u001b[0;34m)\u001b[0m\u001b[0;34m\u001b[0m\u001b[0;34m\u001b[0m\u001b[0m\n\u001b[0;32m----> 7\u001b[0;31m \u001b[0mnext\u001b[0m\u001b[0;34m(\u001b[0m\u001b[0miter_1\u001b[0m\u001b[0;34m)\u001b[0m\u001b[0;34m\u001b[0m\u001b[0;34m\u001b[0m\u001b[0m\n\u001b[0m",
            "\u001b[0;31mStopIteration\u001b[0m: "
          ]
        }
      ]
    },
    {
      "cell_type": "markdown",
      "source": [
        "А що якщо викликати цю ж функцію на рядку?"
      ],
      "metadata": {
        "id": "aekWHGXOLRsO"
      }
    },
    {
      "cell_type": "code",
      "source": [
        "next(str_1)"
      ],
      "metadata": {
        "id": "mxATGsErLV1i",
        "colab": {
          "base_uri": "https://localhost:8080/",
          "height": 143
        },
        "outputId": "96de4aff-3d3a-4103-c6fe-c18d44ccb157"
      },
      "execution_count": 83,
      "outputs": [
        {
          "output_type": "error",
          "ename": "TypeError",
          "evalue": "'str' object is not an iterator",
          "traceback": [
            "\u001b[0;31m---------------------------------------------------------------------------\u001b[0m",
            "\u001b[0;31mTypeError\u001b[0m                                 Traceback (most recent call last)",
            "\u001b[0;32m<ipython-input-83-73a35b72f7c4>\u001b[0m in \u001b[0;36m<cell line: 1>\u001b[0;34m()\u001b[0m\n\u001b[0;32m----> 1\u001b[0;31m \u001b[0mnext\u001b[0m\u001b[0;34m(\u001b[0m\u001b[0mstr_1\u001b[0m\u001b[0;34m)\u001b[0m\u001b[0;34m\u001b[0m\u001b[0;34m\u001b[0m\u001b[0m\n\u001b[0m",
            "\u001b[0;31mTypeError\u001b[0m: 'str' object is not an iterator"
          ]
        }
      ]
    },
    {
      "cell_type": "markdown",
      "source": [
        " 12. (5б). Опишіть своїми словами в одному реченні, як ви розумієте різницю між ітерабельними обʼєктами та ітераторами (можна на прикладі)."
      ],
      "metadata": {
        "id": "XwtMEopwJ4pH"
      }
    },
    {
      "cell_type": "markdown",
      "source": [
        "ітерабельні об'єкти це об'єкти які складаються з інших об'єктів по яких можна пройтись послідовно, а ітератор це об'єкт вказівник який надає доступ саме до одного елементу ітерабельного об'єкта й надає можливість перейти до іншого(наступного\\попереднього тд)"
      ],
      "metadata": {
        "id": "-sHrODc3KFn8"
      }
    },
    {
      "cell_type": "markdown",
      "source": [
        "13. (11б). Створіть клас, що має визначений Iterator Protocol та при кожному виклику next повертає літери англійської абетки, поки вони не вичерпаються."
      ],
      "metadata": {
        "id": "E9qJWmNbK8Gl"
      }
    },
    {
      "cell_type": "code",
      "source": [
        "class AlphabetIterator:\n",
        "    def __init__(self):\n",
        "        self.alphabet = list(\"ABCDEFGHIJKLMNOPQRSTUVWXYZ\")\n",
        "\n",
        "    def __iter__(self):\n",
        "        return self\n",
        "\n",
        "    def __next__(self):\n",
        "        if self.alphabet:\n",
        "            return self.alphabet.pop(0)\n",
        "        raise StopIteration\n",
        "\n",
        "\n",
        "\n",
        "alpha_iter_1 = AlphabetIterator()\n",
        "alpha_iter_2 = AlphabetIterator()\n",
        "\n",
        "print(next(alpha_iter_1))\n",
        "print(next(alpha_iter_1))\n",
        "print(next(alpha_iter_1))\n",
        "print(\"===\")\n",
        "\n",
        "for letter in alpha_iter_2:\n",
        "    print(letter)\n",
        "\n"
      ],
      "metadata": {
        "id": "cqx-g_RsLo6I",
        "colab": {
          "base_uri": "https://localhost:8080/"
        },
        "outputId": "7be11ccd-1868-4621-ea32-eedb353a0cc3"
      },
      "execution_count": 84,
      "outputs": [
        {
          "output_type": "stream",
          "name": "stdout",
          "text": [
            "A\n",
            "B\n",
            "C\n",
            "===\n",
            "A\n",
            "B\n",
            "C\n",
            "D\n",
            "E\n",
            "F\n",
            "G\n",
            "H\n",
            "I\n",
            "J\n",
            "K\n",
            "L\n",
            "M\n",
            "N\n",
            "O\n",
            "P\n",
            "Q\n",
            "R\n",
            "S\n",
            "T\n",
            "U\n",
            "V\n",
            "W\n",
            "X\n",
            "Y\n",
            "Z\n"
          ]
        }
      ]
    },
    {
      "cell_type": "markdown",
      "source": [
        "# Вітаю! Ви велика(ий) молодець, що впоралась(вся). Похваліть себе та побалуйте чимось приємним. Я Вами пишаюся."
      ],
      "metadata": {
        "id": "Z3E3S_s1Fv7-"
      }
    }
  ]
}