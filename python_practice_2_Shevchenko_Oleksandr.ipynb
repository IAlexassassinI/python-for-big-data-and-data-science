{
  "nbformat": 4,
  "nbformat_minor": 0,
  "metadata": {
    "colab": {
      "provenance": []
    },
    "kernelspec": {
      "name": "python3",
      "display_name": "Python 3"
    },
    "language_info": {
      "name": "python"
    }
  },
  "cells": [
    {
      "cell_type": "markdown",
      "source": [
        "# I. Змінні та памʼять."
      ],
      "metadata": {
        "id": "p9wwt0LZzNvn"
      }
    },
    {
      "cell_type": "markdown",
      "source": [
        "1. Створити змінні, що посилаються на два цілих числа, що однакові за значенням, де значення належить проміжку від -5 до 256. Перевірте, чи будуть ці змінні рівні тільки за значенням або ж ще будуть посилатися на один і той самий обʼєкт в памʼяті? Наведіть код та дайте текстову відповідь нижче."
      ],
      "metadata": {
        "id": "HTJrrm95xSV9"
      }
    },
    {
      "cell_type": "code",
      "execution_count": 3,
      "metadata": {
        "id": "TATni2vzayjG",
        "colab": {
          "base_uri": "https://localhost:8080/"
        },
        "outputId": "dfc2a290-9410-4c33-d065-c4395d8a3104"
      },
      "outputs": [
        {
          "output_type": "stream",
          "name": "stdout",
          "text": [
            "variable one:64 id:134663236323536\n",
            "variable two:64 id:134663236323536\n",
            "id are equal = True\n"
          ]
        }
      ],
      "source": [
        "variable_one = 64\n",
        "variable_two = 64\n",
        "print(\"variable one:{} id:{}\".format(variable_one, id(variable_one)))\n",
        "print(\"variable two:{} id:{}\".format(variable_two, id(variable_two)))\n",
        "print(\"ids are equal = {}\".format(id(variable_one) == id(variable_two)))"
      ]
    },
    {
      "cell_type": "markdown",
      "source": [
        "змінні рівні за значенням й за об'єктом в пам'яті"
      ],
      "metadata": {
        "id": "zfRG_o3WbRdg"
      }
    },
    {
      "cell_type": "markdown",
      "source": [
        "2. За допомогою якої функції можна перевірити належність змінної до вказаного типу даних (напр. чи змінна True посилається на значення булевого та цілочисленого типу)?"
      ],
      "metadata": {
        "id": "ISORzt6M3vAt"
      }
    },
    {
      "cell_type": "code",
      "source": [
        "print(type(True))\n",
        "print(type(256))\n",
        "variable_true = True\n",
        "variavle_int = 256\n",
        "print(type(variable_true))\n",
        "print(type(variavle_int))"
      ],
      "metadata": {
        "id": "9vL9CFaMbfyo",
        "colab": {
          "base_uri": "https://localhost:8080/"
        },
        "outputId": "91cc9c6b-f637-4d0e-a8de-7ebd34ef23bf"
      },
      "execution_count": 9,
      "outputs": [
        {
          "output_type": "stream",
          "name": "stdout",
          "text": [
            "<class 'bool'>\n",
            "<class 'int'>\n",
            "<class 'bool'>\n",
            "<class 'int'>\n"
          ]
        }
      ]
    },
    {
      "cell_type": "markdown",
      "source": [
        "за допомогою функції type()"
      ],
      "metadata": {
        "id": "TAjy3sEriiU9"
      }
    },
    {
      "cell_type": "markdown",
      "source": [
        "# II. Цілі числа та числа з рухомою комою"
      ],
      "metadata": {
        "id": "tRxugKAxwYLw"
      }
    },
    {
      "cell_type": "markdown",
      "source": [
        "3. Створити дві змінні, що посилаються на будь-які ціле число та число з рухомою комою та продемонструвати такі арифметичні операції: додавання, віднімання, ділення, множення, ділення без залишку, ділення по модулю, приведення до ступеню. Всі результати операцій вивести на екран."
      ],
      "metadata": {
        "id": "NLHkgd5Gybc8"
      }
    },
    {
      "cell_type": "code",
      "source": [
        "arithm_var_int1 = 100\n",
        "arithm_var_int2 = 2\n",
        "\n",
        "arithm_var_float1 = 10.1\n",
        "arithm_var_float2 = 2.5\n",
        "\n",
        "print(\"int and int\")\n",
        "res = arithm_var_int1 + arithm_var_int2\n",
        "print(res)\n",
        "res = arithm_var_int1 - arithm_var_int2\n",
        "print(res)\n",
        "res = arithm_var_int1 / arithm_var_int2\n",
        "print(res)\n",
        "res = arithm_var_int1 * arithm_var_int2\n",
        "print(res)\n",
        "res = arithm_var_int1 // arithm_var_int2\n",
        "print(res)\n",
        "res = arithm_var_int1 % arithm_var_int2\n",
        "print(res)\n",
        "res = arithm_var_int1 ** arithm_var_int2\n",
        "print(res)\n",
        "\n",
        "print(\"\\n\\nfloat and int\")\n",
        "res = arithm_var_float1 + arithm_var_int2\n",
        "print(res)\n",
        "res = arithm_var_float1 - arithm_var_int2\n",
        "print(res)\n",
        "res = arithm_var_float1 / arithm_var_int2\n",
        "print(res)\n",
        "res = arithm_var_float1 * arithm_var_int2\n",
        "print(res)\n",
        "res = arithm_var_float1 // arithm_var_int2\n",
        "print(res)\n",
        "res = arithm_var_float1 % arithm_var_int2\n",
        "print(res)\n",
        "res = arithm_var_float1 ** arithm_var_int2\n",
        "print(res)\n",
        "\n",
        "print(\"\\n\\nint and float\")\n",
        "res = arithm_var_int1 + arithm_var_float2\n",
        "print(res)\n",
        "res = arithm_var_int1 - arithm_var_float2\n",
        "print(res)\n",
        "res = arithm_var_int1 / arithm_var_float2\n",
        "print(res)\n",
        "res = arithm_var_int1 * arithm_var_float2\n",
        "print(res)\n",
        "res = arithm_var_int1 // arithm_var_float2\n",
        "print(res)\n",
        "res = arithm_var_int1 % arithm_var_float2\n",
        "print(res)\n",
        "res = arithm_var_int1 ** arithm_var_float2\n",
        "print(res)\n",
        "\n",
        "print(\"\\n\\nfloat and float\")\n",
        "res = arithm_var_float1 + arithm_var_float2\n",
        "print(res)\n",
        "res = arithm_var_float1 - arithm_var_float2\n",
        "print(res)\n",
        "res = arithm_var_float1 / arithm_var_float2\n",
        "print(res)\n",
        "res = arithm_var_float1 * arithm_var_float2\n",
        "print(res)\n",
        "res = arithm_var_float1 // arithm_var_float2\n",
        "print(res)\n",
        "res = arithm_var_float1 % arithm_var_float2\n",
        "print(res)\n",
        "res = arithm_var_float1 ** arithm_var_float2\n",
        "print(res)"
      ],
      "metadata": {
        "id": "nb8u_3pjb2cA",
        "colab": {
          "base_uri": "https://localhost:8080/"
        },
        "outputId": "2f480c94-097b-4fa5-f080-fdcabed5ce77"
      },
      "execution_count": 14,
      "outputs": [
        {
          "output_type": "stream",
          "name": "stdout",
          "text": [
            "int and int\n",
            "102\n",
            "98\n",
            "50.0\n",
            "200\n",
            "50\n",
            "0\n",
            "10000\n",
            "\n",
            "\n",
            "float and int\n",
            "12.1\n",
            "8.1\n",
            "5.05\n",
            "20.2\n",
            "5.0\n",
            "0.09999999999999964\n",
            "102.00999999999999\n",
            "\n",
            "\n",
            "int and float\n",
            "102.5\n",
            "97.5\n",
            "40.0\n",
            "250.0\n",
            "40.0\n",
            "0.0\n",
            "100000.0\n",
            "\n",
            "\n",
            "float and float\n",
            "12.6\n",
            "7.6\n",
            "4.04\n",
            "25.25\n",
            "4.0\n",
            "0.09999999999999964\n",
            "324.19285157140644\n"
          ]
        }
      ]
    },
    {
      "cell_type": "markdown",
      "source": [
        "4. Використовуючи змінні з вправи 3, продемонструйте механізм явного перетворення типів, де числа з рухомою комою перетворюються на цілі числа. Також визначте змінну, що посилається на значення булевого типу і спробуйте явно привести її до цілого числа."
      ],
      "metadata": {
        "id": "1kBClKgPzZnC"
      }
    },
    {
      "cell_type": "code",
      "source": [
        "casted_int = int(arithm_var_float1)\n",
        "\n",
        "was = arithm_var_float1\n",
        "become = casted_int\n",
        "print(\"was {} {} become {} {}\".format(type(was), was, type(become), become))\n",
        "\n",
        "bool_variable_true = True\n",
        "bool_variable_false = False\n",
        "\n",
        "int_casted_variable_true = int(bool_variable_true)\n",
        "int_casted_variable_false = int(bool_variable_false)\n",
        "\n",
        "was = bool_variable_true\n",
        "become = int_casted_variable_true\n",
        "print(\"was {} {} become {} {}\".format(type(was), was, type(become), become))\n",
        "\n",
        "was = bool_variable_false\n",
        "become = int_casted_variable_false\n",
        "print(\"was {} {} become {} {}\".format(type(was), was, type(become), become))"
      ],
      "metadata": {
        "id": "TbqJbkeUcKsD",
        "colab": {
          "base_uri": "https://localhost:8080/"
        },
        "outputId": "ff3d338e-27f3-4814-e0b0-d863c8892240"
      },
      "execution_count": 24,
      "outputs": [
        {
          "output_type": "stream",
          "name": "stdout",
          "text": [
            "was <class 'float'> 10.1 become <class 'int'> 10\n",
            "was <class 'bool'> True become <class 'int'> 1\n",
            "was <class 'bool'> False become <class 'int'> 0\n"
          ]
        }
      ]
    },
    {
      "cell_type": "markdown",
      "source": [
        "# IІІ. Рядки (String)."
      ],
      "metadata": {
        "id": "EVJ7AflwxrZi"
      }
    },
    {
      "cell_type": "markdown",
      "source": [
        "5. Створити пустий рядок двома різними способами."
      ],
      "metadata": {
        "id": "_s5ECzz9zE61"
      }
    },
    {
      "cell_type": "code",
      "source": [
        "string_var1 = \"\"\n",
        "string_var2 = str()\n",
        "\n",
        "was = string_var1\n",
        "print(\"variable type:{} variable value:{}\".format(type(was), was))\n",
        "\n",
        "was = string_var2\n",
        "print(\"variable type:{} variable value:{}\".format(type(was), was))"
      ],
      "metadata": {
        "id": "fkZJHu9Scvc-",
        "colab": {
          "base_uri": "https://localhost:8080/"
        },
        "outputId": "6be52d09-1d40-4829-bf1a-c245ea8ce26d"
      },
      "execution_count": 27,
      "outputs": [
        {
          "output_type": "stream",
          "name": "stdout",
          "text": [
            "variable type:<class 'str'> variable value:\n",
            "variable type:<class 'str'> variable value:\n"
          ]
        }
      ]
    },
    {
      "cell_type": "markdown",
      "source": [
        "6. Створити рядок з апострофом. Зробити його сирим. Вивести обидва рядка на екран."
      ],
      "metadata": {
        "id": "4Bdn9J3MzLf_"
      }
    },
    {
      "cell_type": "code",
      "source": [
        "string_var_basic = \"something ` ' something\\t\\ttab\"\n",
        "string_var_raw = r\"something ` ' something\\t\\ttab\"\n",
        "string_var_converted_to_raw = repr(string_var_basic)\n",
        "\n",
        "print(string_var_basic)\n",
        "print(string_var_raw)\n",
        "print(string_var_converted_to_raw)"
      ],
      "metadata": {
        "id": "ivji_hsmc0GH",
        "colab": {
          "base_uri": "https://localhost:8080/"
        },
        "outputId": "6f3d13c5-af42-4783-9053-3464a11c24e7"
      },
      "execution_count": 33,
      "outputs": [
        {
          "output_type": "stream",
          "name": "stdout",
          "text": [
            "something ` ' something\t\ttab\n",
            "something ` ' something\\t\\ttab\n",
            "\"something ` ' something\\t\\ttab\"\n"
          ]
        }
      ]
    },
    {
      "cell_type": "markdown",
      "source": [
        "7. Створити змінну, що буде посилатися на Ваше прізвище латинкою. Створити форматований рядок, який буде мати вигляд \"My surname is ______\", де на місці нижніх підкреслень буде Ваше прізвище зі змінної."
      ],
      "metadata": {
        "id": "bg_d8wM4z8dS"
      }
    },
    {
      "cell_type": "code",
      "source": [
        "Surname_str = \"Shevchenko\"\n",
        "formated_str = \"My surname is {}\".format(Surname_str)\n",
        "print(formated_str)"
      ],
      "metadata": {
        "id": "kuxFgpWndACq",
        "colab": {
          "base_uri": "https://localhost:8080/"
        },
        "outputId": "f9704da5-34fe-4201-8511-8fbae378bbdf"
      },
      "execution_count": 34,
      "outputs": [
        {
          "output_type": "stream",
          "name": "stdout",
          "text": [
            "My surname is Shevchenko\n"
          ]
        }
      ]
    },
    {
      "cell_type": "markdown",
      "source": [
        "8. Маючи рядок \"My dog is crazy.\" перетворити його на список [\"my\", \"dog\", \"is\", \"crazy\"]"
      ],
      "metadata": {
        "id": "1Nc6RqvQ0hxU"
      }
    },
    {
      "cell_type": "code",
      "source": [
        "dog_string =  \"My dog is crazy.\"\n",
        "dog_string_in_list = dog_string.replace(\".\", \" \").split()\n",
        "print(dog_string_in_list)"
      ],
      "metadata": {
        "id": "w1Ya4RqedUhw",
        "colab": {
          "base_uri": "https://localhost:8080/"
        },
        "outputId": "59d70555-16c4-4374-d817-e154f6078f3a"
      },
      "execution_count": 48,
      "outputs": [
        {
          "output_type": "stream",
          "name": "stdout",
          "text": [
            "['My', 'dog', 'is', 'crazy']\n"
          ]
        }
      ]
    },
    {
      "cell_type": "markdown",
      "source": [
        "# IV. Робота зі списками."
      ],
      "metadata": {
        "id": "GYVqN9uP1D4n"
      }
    },
    {
      "cell_type": "markdown",
      "source": [
        "9. Створити список двома різними за синтаксисом способами. За допомогою вбудованої функції обчисліть довжину одного з них."
      ],
      "metadata": {
        "id": "7-DeDunw2sO-"
      }
    },
    {
      "cell_type": "code",
      "source": [
        "list_variable1 = []\n",
        "list_variable2 = [1, 2, 3, 4, 5]\n",
        "list_variable3 = list()\n",
        "list_variable4 = list(\"12345\")\n",
        "list_variable5 = [i for i in range(5)]\n",
        "list_variable6 = [5]*5\n",
        "list_variable7 = []\n",
        "list_variable7.append(1)\n",
        "list_variable7.append(2)\n",
        "list_variable7.append(3)\n",
        "list_variable7.append(4)\n",
        "list_variable7.append(5)\n",
        "\n",
        "print(list_variable1)\n",
        "print(list_variable2)\n",
        "print(list_variable3)\n",
        "print(list_variable4)\n",
        "print(list_variable5)\n",
        "print(list_variable6)\n",
        "print(list_variable7)\n",
        "\n",
        "print(len(list_variable2))\n"
      ],
      "metadata": {
        "id": "zxg06Uuxdyoh",
        "colab": {
          "base_uri": "https://localhost:8080/"
        },
        "outputId": "ab56c9ac-463b-4c10-b9c7-9728009cd6f3"
      },
      "execution_count": 56,
      "outputs": [
        {
          "output_type": "stream",
          "name": "stdout",
          "text": [
            "[]\n",
            "[1, 2, 3, 4, 5]\n",
            "[]\n",
            "['1', '2', '3', '4', '5']\n",
            "[0, 1, 2, 3, 4]\n",
            "[5, 5, 5, 5, 5]\n",
            "[1, 2, 3, 4, 5]\n",
            "5\n"
          ]
        }
      ]
    },
    {
      "cell_type": "markdown",
      "source": [
        "10. Створіть два списка та за допомогою спеціального методу додайте другий з них в якості останнього елемента першого."
      ],
      "metadata": {
        "id": "8vmGUTjL22gI"
      }
    },
    {
      "cell_type": "code",
      "source": [
        "first_list = [1, 2, 3, 4, 5]\n",
        "second_list = [6, 7, 8, 9, 10]\n",
        "print(first_list)\n",
        "first_list.append(second_list)\n",
        "print(first_list)"
      ],
      "metadata": {
        "id": "uHtjWYw7d7hm",
        "colab": {
          "base_uri": "https://localhost:8080/"
        },
        "outputId": "4e99d4a0-ef6e-469a-d607-31174cfe9410"
      },
      "execution_count": 57,
      "outputs": [
        {
          "output_type": "stream",
          "name": "stdout",
          "text": [
            "[1, 2, 3, 4, 5]\n",
            "[1, 2, 3, 4, 5, [6, 7, 8, 9, 10]]\n"
          ]
        }
      ]
    },
    {
      "cell_type": "markdown",
      "source": [
        "11. Створіть список, де елементами цього списку також є списки. Отримай перший елемент з останнього рядка та виведи значення на екран."
      ],
      "metadata": {
        "id": "JC3BkD-67_--"
      }
    },
    {
      "cell_type": "code",
      "source": [
        "lists_in_lists = [[1, 2, 3], [4, 5, 6], [7, 8, 9], [10, 11, 12], [13, 14, 15]]\n",
        "print(lists_in_lists[-1][0])"
      ],
      "metadata": {
        "id": "Kz2jZHsGeLlz",
        "colab": {
          "base_uri": "https://localhost:8080/"
        },
        "outputId": "41174a85-6be9-40da-8fb9-2b65ea486c35"
      },
      "execution_count": 58,
      "outputs": [
        {
          "output_type": "stream",
          "name": "stdout",
          "text": [
            "13\n"
          ]
        }
      ]
    },
    {
      "cell_type": "markdown",
      "source": [
        "12. Створіть список з десяти елементів різного типу. Отримайте всі елементи, окрім двох перших та двох останніх та збережіть їх в новій змінній."
      ],
      "metadata": {
        "id": "JA47PKTv8zFK"
      }
    },
    {
      "cell_type": "code",
      "source": [
        "poly_list = [100, 1.1, \"str\", [1, 23, 4], True, (1, 2, 3), {1, 2, 3}, 'a', -0.00000000000000001, False]\n",
        "print(poly_list)\n",
        "cutted_list = poly_list[2:-2]\n",
        "print(cutted_list)"
      ],
      "metadata": {
        "id": "_rHdUR-ueP4-",
        "colab": {
          "base_uri": "https://localhost:8080/"
        },
        "outputId": "ff4908aa-1163-4788-94e1-e2c1d6fcb463"
      },
      "execution_count": 63,
      "outputs": [
        {
          "output_type": "stream",
          "name": "stdout",
          "text": [
            "[100, 1.1, 'str', [1, 23, 4], True, (1, 2, 3), -222, 'str2', -1e-17, False]\n",
            "['str', [1, 23, 4], True, (1, 2, 3), -222, 'str2']\n"
          ]
        }
      ]
    },
    {
      "cell_type": "markdown",
      "source": [
        "# V. Робота з кортежами."
      ],
      "metadata": {
        "id": "pCjR1dJb1Qbi"
      }
    },
    {
      "cell_type": "markdown",
      "source": [
        "14. Створити кортеж з один елементом."
      ],
      "metadata": {
        "id": "fAZCxAX06R_k"
      }
    },
    {
      "cell_type": "code",
      "source": [
        "tuple_variable1 = (1,)\n",
        "tuple_variable2 = tuple([1])\n",
        "print(tuple_variable1)\n",
        "print(type(tuple_variable1))\n",
        "print(tuple_variable2)\n",
        "print(type(tuple_variable2))"
      ],
      "metadata": {
        "id": "H7d82WkQev3e",
        "colab": {
          "base_uri": "https://localhost:8080/"
        },
        "outputId": "e35fa212-cb14-42fc-a05e-29f168506471"
      },
      "execution_count": 77,
      "outputs": [
        {
          "output_type": "stream",
          "name": "stdout",
          "text": [
            "(1,)\n",
            "<class 'tuple'>\n",
            "(1,)\n",
            "<class 'tuple'>\n"
          ]
        }
      ]
    },
    {
      "cell_type": "markdown",
      "source": [
        "15. Порівняйте список та кортеж. Назвіть схожості та відмінності, випадки використання."
      ],
      "metadata": {
        "id": "8LCtYcmI6w1M"
      }
    },
    {
      "cell_type": "markdown",
      "source": [
        "Схожість у структурі: послідовність елементів до яких можна доступитися по індексу. Але кортежі на відміну від списків є незмінними. Масиви використовуємо коли потрібно активно змінювати значення й кількість значень послідовності, а кортежі потрібні коли потрібно передати дані як константи"
      ],
      "metadata": {
        "id": "fUsN1Hnue0C6"
      }
    },
    {
      "cell_type": "markdown",
      "source": [
        "16. Створіть кортеж з 11ти елементів чисел з рухомою комою та отримайте кожен парний за індексом елемент в зворотньому порядку. Наприклад, маючи (1.2, 2.3, 3.3, 4.3, 5.3, 6.3, 7.3, 8.3, 9.3, 0.3), отримати (0.3, 8.3, 6.3, 4.3, 2.3). Результат збережіть в нову змінну та виведіть на екран."
      ],
      "metadata": {
        "id": "m0xrwFijAmDD"
      }
    },
    {
      "cell_type": "code",
      "source": [
        "tuple_variable1 = (1.2, 2.3, 3.3, 4.3, 5.3, 6.3, 7.3, 8.3, 9.3, 0.3)\n",
        "tuple_variable2 = tuple_variable1[::-2]\n",
        "print(tuple_variable2)"
      ],
      "metadata": {
        "id": "p-5DAH6XfAGA",
        "colab": {
          "base_uri": "https://localhost:8080/"
        },
        "outputId": "6414f0e9-7b12-4702-a06d-1030e4d60d52"
      },
      "execution_count": 72,
      "outputs": [
        {
          "output_type": "stream",
          "name": "stdout",
          "text": [
            "(0.3, 8.3, 6.3, 4.3, 2.3)\n"
          ]
        }
      ]
    },
    {
      "cell_type": "markdown",
      "source": [
        "# VI. Множини (Set)."
      ],
      "metadata": {
        "id": "rW_I9dt3x6cW"
      }
    },
    {
      "cell_type": "markdown",
      "source": [
        "17. Створити множину без елементів. Після цого за допомогою методу додайте кілька різних елементів до множини. Чи множини є змінним типом даних?"
      ],
      "metadata": {
        "id": "zNjRLHLw1Bgg"
      }
    },
    {
      "cell_type": "code",
      "source": [
        "set_variable = set()\n",
        "set_variable.add(1)\n",
        "set_variable.add(\"abc\")\n",
        "local_var = 123\n",
        "set_variable.add(local_var)\n",
        "local_var = 321\n",
        "print(set_variable)\n",
        "print(type(set_variable))"
      ],
      "metadata": {
        "id": "KOv7zc2Kfo4N",
        "colab": {
          "base_uri": "https://localhost:8080/"
        },
        "outputId": "f0df0c3f-ad04-47c2-fc4d-ba9b52daa70b"
      },
      "execution_count": 81,
      "outputs": [
        {
          "output_type": "stream",
          "name": "stdout",
          "text": [
            "{1, 123, 'abc'}\n",
            "<class 'set'>\n"
          ]
        }
      ]
    },
    {
      "cell_type": "markdown",
      "source": [
        "В сеті не можна змінити додане значення але можна видалити елементи та додати нові"
      ],
      "metadata": {
        "id": "vxS6dVYiftZQ"
      }
    },
    {
      "cell_type": "markdown",
      "source": [
        "18. Створити множину, маючи список my_list = [1, 1, 2, 67, 67, 8, 9]. Пояснити, чому \"зникли\" деякі елементи."
      ],
      "metadata": {
        "id": "gHpT0Zw_1HEF"
      }
    },
    {
      "cell_type": "code",
      "source": [
        "my_list = [1, 1, 2, 67, 67, 8, 9]\n",
        "set_from_list = set(my_list)\n",
        "print(set_from_list)"
      ],
      "metadata": {
        "id": "qCN4uvJ_fxmu",
        "colab": {
          "base_uri": "https://localhost:8080/"
        },
        "outputId": "7b004cb2-8101-451c-b0ff-b7f92c1413f4"
      },
      "execution_count": 82,
      "outputs": [
        {
          "output_type": "stream",
          "name": "stdout",
          "text": [
            "{1, 2, 67, 8, 9}\n"
          ]
        }
      ]
    },
    {
      "cell_type": "markdown",
      "source": [
        "\"зникли\" елементи бо в сет зберігає лише факт входження певного елементу тому він не зберігає повторення"
      ],
      "metadata": {
        "id": "tFNc1e20fyny"
      }
    },
    {
      "cell_type": "markdown",
      "source": [
        "19. Створіть дві множини. Продемонстуйте над ними операції: обʼєднання, різниці, пересічі та симетричної різниці. Використовуйте методи, що не змінюють множини, а створюють нові."
      ],
      "metadata": {
        "id": "SRMkGizS1UwY"
      }
    },
    {
      "cell_type": "code",
      "source": [
        "set_1 = {1, 2, 3, 4, 5}\n",
        "set_2 = {4, 5, 6, 7, 8}\n",
        "\n",
        "union_set = set_1.union(set_2)\n",
        "difference_set = set_1.difference(set_2)\n",
        "intersection_set = set_1.intersection(set_2)\n",
        "symmetric_difference_set = set_1.symmetric_difference(set_2)\n",
        "\n",
        "print(union_set)\n",
        "print(difference_set)\n",
        "print(intersection_set)\n",
        "print(symmetric_difference_set)"
      ],
      "metadata": {
        "id": "h0T-VuDnf3Ri",
        "colab": {
          "base_uri": "https://localhost:8080/"
        },
        "outputId": "a1195a4a-5c4b-4905-a520-2f3093135533"
      },
      "execution_count": 83,
      "outputs": [
        {
          "output_type": "stream",
          "name": "stdout",
          "text": [
            "{1, 2, 3, 4, 5, 6, 7, 8}\n",
            "{1, 2, 3}\n",
            "{4, 5}\n",
            "{1, 2, 3, 6, 7, 8}\n"
          ]
        }
      ]
    },
    {
      "cell_type": "markdown",
      "source": [
        "# VII. Словники (Dictionary)."
      ],
      "metadata": {
        "id": "kWc8gkzTx7Ea"
      }
    },
    {
      "cell_type": "markdown",
      "source": [
        "20. Створіть пустий словник. До нього додайте чотири пари елементів такі, щоб їхні ключі були різних типів. Чи може список бути ключем? Чому?"
      ],
      "metadata": {
        "id": "i5FLwj-B2ybQ"
      }
    },
    {
      "cell_type": "code",
      "source": [
        "dict_variable = {11: \"11\", False: True, (2, 3): 4, \"key\": 5}"
      ],
      "metadata": {
        "id": "hxgv3BzrgLAV"
      },
      "execution_count": 86,
      "outputs": []
    },
    {
      "cell_type": "markdown",
      "source": [
        "Список не може бути ключем оскільки він може змінюватися та не хешується (помилка при спробі)"
      ],
      "metadata": {
        "id": "zwa7UVN-gR3m"
      }
    },
    {
      "cell_type": "markdown",
      "source": [
        "21. Створіть словник, де значенням в одній з пар теж буде словник, який теж має вкладений словник. Виведіть на екран значення, що міститься в словнику, що знаходиться на найнижчому рівні ієрархії вкладеності (найбільш внутрішній)."
      ],
      "metadata": {
        "id": "WM_pMlJsgoNf"
      }
    },
    {
      "cell_type": "code",
      "source": [
        "dict_inception = {\"dict1\": {\"dict2\": {\"not dict\": [1, 2, 3], \"boolean\": True, 123: \"123\"}, \"boolean\": True, 123: \"123\"}, \"boolean\": True, 123: \"123\"}\n",
        "print(dict_inception[\"dict1\"][\"dict2\"])"
      ],
      "metadata": {
        "id": "60dlP7IHhAy4",
        "colab": {
          "base_uri": "https://localhost:8080/"
        },
        "outputId": "cda10c2a-524c-4542-9260-cbaa26a2515a"
      },
      "execution_count": 88,
      "outputs": [
        {
          "output_type": "stream",
          "name": "stdout",
          "text": [
            "{'not dict': [1, 2, 3], 'boolean': True, 123: '123'}\n"
          ]
        }
      ]
    },
    {
      "cell_type": "markdown",
      "source": [
        "# Вітаю! Ви велика(ий) молодець, що впоралась(вся). Похваліть себе та побалуйте чимось приємним. Я Вами пишаюся."
      ],
      "metadata": {
        "id": "xOZP0hkx6cCr"
      }
    }
  ]
}