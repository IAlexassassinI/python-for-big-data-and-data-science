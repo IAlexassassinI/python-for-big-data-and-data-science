{
  "nbformat": 4,
  "nbformat_minor": 0,
  "metadata": {
    "colab": {
      "provenance": []
    },
    "kernelspec": {
      "name": "python3",
      "display_name": "Python 3"
    },
    "language_info": {
      "name": "python"
    }
  },
  "cells": [
    {
      "cell_type": "markdown",
      "source": [
        "# I. Functions. Arguments."
      ],
      "metadata": {
        "id": "kXpppdVm6wFy"
      }
    },
    {
      "cell_type": "markdown",
      "source": [
        "1. (5б) Назвіть основні 4 смислові  частини, з яких складається функція."
      ],
      "metadata": {
        "id": "u_krJdlbAkVz"
      }
    },
    {
      "cell_type": "markdown",
      "source": [
        "*місце для текстової відповіді"
      ],
      "metadata": {
        "id": "KKTrTXmHAptb"
      }
    },
    {
      "cell_type": "markdown",
      "source": [
        "2. (3б) Визначте функцію, що приймає 2 аргументи та повертає результат ділення 1го аргумента на інший."
      ],
      "metadata": {
        "id": "ORM4PqJQAtDM"
      }
    },
    {
      "cell_type": "code",
      "execution_count": 95,
      "metadata": {
        "id": "EuDx-z8M6sLo",
        "colab": {
          "base_uri": "https://localhost:8080/"
        },
        "outputId": "a1ff50b7-1b85-4089-ca33-c3fe87a3ef0a"
      },
      "outputs": [
        {
          "output_type": "stream",
          "name": "stdout",
          "text": [
            "2.0\n"
          ]
        }
      ],
      "source": [
        "def my_div(arg1, arg2):\n",
        "    return arg1 / arg2\n",
        "\n",
        "print(my_div(10, 5))"
      ]
    },
    {
      "cell_type": "markdown",
      "source": [
        "3. (2б) Викличте вище визначену функцію, де другий аргумент дорівнює 0."
      ],
      "metadata": {
        "id": "5joQGQ-SAyMe"
      }
    },
    {
      "cell_type": "code",
      "source": [
        "print(my_div(10, 0))"
      ],
      "metadata": {
        "id": "V5cBV1LOA3d-",
        "colab": {
          "base_uri": "https://localhost:8080/",
          "height": 249
        },
        "outputId": "4d2ae0ba-23d4-4949-d814-b47e5118f41c"
      },
      "execution_count": 96,
      "outputs": [
        {
          "output_type": "error",
          "ename": "ZeroDivisionError",
          "evalue": "division by zero",
          "traceback": [
            "\u001b[0;31m---------------------------------------------------------------------------\u001b[0m",
            "\u001b[0;31mZeroDivisionError\u001b[0m                         Traceback (most recent call last)",
            "\u001b[0;32m<ipython-input-96-3b86844f932c>\u001b[0m in \u001b[0;36m<cell line: 1>\u001b[0;34m()\u001b[0m\n\u001b[0;32m----> 1\u001b[0;31m \u001b[0mprint\u001b[0m\u001b[0;34m(\u001b[0m\u001b[0mmy_div\u001b[0m\u001b[0;34m(\u001b[0m\u001b[0;36m10\u001b[0m\u001b[0;34m,\u001b[0m \u001b[0;36m0\u001b[0m\u001b[0;34m)\u001b[0m\u001b[0;34m)\u001b[0m\u001b[0;34m\u001b[0m\u001b[0;34m\u001b[0m\u001b[0m\n\u001b[0m",
            "\u001b[0;32m<ipython-input-95-3c11c7e6e35b>\u001b[0m in \u001b[0;36mmy_div\u001b[0;34m(arg1, arg2)\u001b[0m\n\u001b[1;32m      1\u001b[0m \u001b[0;32mdef\u001b[0m \u001b[0mmy_div\u001b[0m\u001b[0;34m(\u001b[0m\u001b[0marg1\u001b[0m\u001b[0;34m,\u001b[0m \u001b[0marg2\u001b[0m\u001b[0;34m)\u001b[0m\u001b[0;34m:\u001b[0m\u001b[0;34m\u001b[0m\u001b[0;34m\u001b[0m\u001b[0m\n\u001b[0;32m----> 2\u001b[0;31m     \u001b[0;32mreturn\u001b[0m \u001b[0marg1\u001b[0m \u001b[0;34m/\u001b[0m \u001b[0marg2\u001b[0m\u001b[0;34m\u001b[0m\u001b[0;34m\u001b[0m\u001b[0m\n\u001b[0m\u001b[1;32m      3\u001b[0m \u001b[0;34m\u001b[0m\u001b[0m\n\u001b[1;32m      4\u001b[0m \u001b[0mprint\u001b[0m\u001b[0;34m(\u001b[0m\u001b[0mmy_div\u001b[0m\u001b[0;34m(\u001b[0m\u001b[0;36m10\u001b[0m\u001b[0;34m,\u001b[0m \u001b[0;36m5\u001b[0m\u001b[0;34m)\u001b[0m\u001b[0;34m)\u001b[0m\u001b[0;34m\u001b[0m\u001b[0;34m\u001b[0m\u001b[0m\n",
            "\u001b[0;31mZeroDivisionError\u001b[0m: division by zero"
          ]
        }
      ]
    },
    {
      "cell_type": "markdown",
      "source": [
        "4. (4б) Перевизначте функцію так, щоби у випадку ділення на 0 функція повертала None, а в решті випадків - результат розрахунків."
      ],
      "metadata": {
        "id": "QyimWgW8A43-"
      }
    },
    {
      "cell_type": "code",
      "source": [
        "def my_div(arg1, arg2):\n",
        "    if (arg2):\n",
        "        return arg1 / arg2\n",
        "\n",
        "print(my_div(10, 5))\n",
        "print(my_div(10, 0))"
      ],
      "metadata": {
        "id": "7VIODtSjA8Ek",
        "colab": {
          "base_uri": "https://localhost:8080/"
        },
        "outputId": "77847422-8f7e-47e9-c7c9-c6854f24b431"
      },
      "execution_count": 117,
      "outputs": [
        {
          "output_type": "stream",
          "name": "stdout",
          "text": [
            "2.0\n",
            "None\n"
          ]
        }
      ]
    },
    {
      "cell_type": "markdown",
      "source": [
        "5. (5б) Визначте функцію, що віднімає одне число від іншого (підказка: це буде 2 аргументи функції). При чому, якщо не визначити, скільки саме має бути віднято від числа, за замовчуванням має відніматися 1. Викличте функцію, передаючи тільки один аргумент."
      ],
      "metadata": {
        "id": "Y8mN0GfkA81l"
      }
    },
    {
      "cell_type": "code",
      "source": [
        "def my_subtract(main_num, to_subtract = 1):\n",
        "    return main_num - to_subtract\n",
        "\n",
        "print(my_subtract(10, 5))\n",
        "print(my_subtract(10))"
      ],
      "metadata": {
        "id": "vg1kxkdgBA50",
        "colab": {
          "base_uri": "https://localhost:8080/"
        },
        "outputId": "02e4754c-6c3c-4160-ae52-2c442d834945"
      },
      "execution_count": 118,
      "outputs": [
        {
          "output_type": "stream",
          "name": "stdout",
          "text": [
            "5\n",
            "9\n"
          ]
        }
      ]
    },
    {
      "cell_type": "markdown",
      "source": [
        "6. (7б) Визначте функцію, яка приймає iterable (ітерабельний обʼєкт, напр. список), що складається з 7ми рядкових значень - назв погодних умов (напр. \"sunny\") за кожен день у тижні. Повертає функція словник, де ключами є рядки з погодними умовами, а значеннями - кількість разів, скільки дана погода була протягом тижня (напр. {'sunny': 1, ...}). Викличте цю функцію та виведіть результат її роботи на екран."
      ],
      "metadata": {
        "id": "D3mwQGNOBBs4"
      }
    },
    {
      "cell_type": "code",
      "source": [
        "def count_weather(wheather_iterable):\n",
        "    weather_dict = {}\n",
        "    for elem in wheather_iterable:\n",
        "        weather_dict[elem] = weather_dict.get(elem, 0) + 1\n",
        "    return weather_dict\n",
        "\n",
        "print(count_weather([\"sunny\", \"rain\", \"sunny\", \"fog\", \"fog\", \"fog\", \"snow\"]))"
      ],
      "metadata": {
        "id": "OsWm-hKcBFyn",
        "colab": {
          "base_uri": "https://localhost:8080/"
        },
        "outputId": "31246aca-f51a-4bc6-a398-85ec7cf614c7"
      },
      "execution_count": 99,
      "outputs": [
        {
          "output_type": "stream",
          "name": "stdout",
          "text": [
            "{'sunny': 2, 'rain': 1, 'fog': 3, 'snow': 1}\n"
          ]
        }
      ]
    },
    {
      "cell_type": "markdown",
      "source": [
        "7. (15б) Напишіть програму, яка б шукала необхідне число у впорядкованому списку цілочислених значень, де\n",
        "число має вводитись з консолі.\n",
        "власне алгоритм пошуку винесений в окрему функцію, яка повертає булеве значення (знайдено число - True, не знайдено - False).\n",
        "в залежності від результату функції, виведіть на екран повідомлення про успішний або ж неуспішний пошук.\n",
        "Зауваження: використовувати оператор in заборонено."
      ],
      "metadata": {
        "id": "RMiCcdOsBKQT"
      }
    },
    {
      "cell_type": "code",
      "source": [
        "\n",
        "def find_num_in_list(num, list_to_search):\n",
        "    right_indx = len(list_to_search) - 1\n",
        "    left_indx = 0\n",
        "    rise_from_left_to_right = (list_to_search[left_indx]\n",
        "                               - list_to_search[right_indx]) <= 0\n",
        "\n",
        "    while(right_indx != left_indx):\n",
        "        indx = (right_indx + left_indx) // 2\n",
        "\n",
        "        if (list_to_search[indx] == num):\n",
        "            return True\n",
        "\n",
        "        if (list_to_search[indx] > num):\n",
        "            if (rise_from_left_to_right):\n",
        "                right_indx = indx - 1\n",
        "            else:\n",
        "                left_indx = indx + 1\n",
        "        else:\n",
        "            if (rise_from_left_to_right):\n",
        "                left_indx = indx + 1\n",
        "            else:\n",
        "                right_indx = indx - 1\n",
        "\n",
        "    return list_to_search[left_indx] == num\n",
        "\n",
        "\n",
        "def printer(bool_res):\n",
        "    if (bool_res):\n",
        "        print(\"Number was found\")\n",
        "    else:\n",
        "        print(\"Number wasn't found\")\n",
        "\n",
        "\n",
        "test_list = [1,2,3,4,5,6,7,8]\n",
        "test_list_r = test_list[::-1]\n",
        "test_list_one = [1]\n",
        "\n",
        "\n",
        "to_find_num = int(input(\"Enter the number to find: \"))\n",
        "\n",
        "\n",
        "printer(find_num_in_list(to_find_num, test_list))\n",
        "printer(find_num_in_list(to_find_num, test_list_r))\n",
        "printer(find_num_in_list(to_find_num, test_list_one))"
      ],
      "metadata": {
        "id": "UNCZg65OBOy-",
        "colab": {
          "base_uri": "https://localhost:8080/"
        },
        "outputId": "bf749e45-927e-4444-8cee-400401852faa"
      },
      "execution_count": 100,
      "outputs": [
        {
          "output_type": "stream",
          "name": "stdout",
          "text": [
            "Enter the number to find: 1\n",
            "Number was found\n",
            "Number was found\n",
            "Number was found\n"
          ]
        }
      ]
    },
    {
      "cell_type": "markdown",
      "source": [
        "# II. Lambda functions."
      ],
      "metadata": {
        "id": "Ae1n_OvLBTsy"
      }
    },
    {
      "cell_type": "markdown",
      "source": [
        "8. (4б) В яких випадках варто використовувати лямбда-функції?"
      ],
      "metadata": {
        "id": "xaD_wSlaCWen"
      }
    },
    {
      "cell_type": "markdown",
      "source": [
        "Коли потрібно передати невелику функцію в іншу функцію, наприклад в функцію map"
      ],
      "metadata": {
        "id": "42MB6OoLCakR"
      }
    },
    {
      "cell_type": "markdown",
      "source": [
        "9. (9б) Визначте список з рядками. Після цього визначте анонімну функцію для отримання першого символу у верхньому регістрі для кожного рядка списку.\n",
        "Підказка: використовуйте анонімну функцію в якості агрумента до вбудованої ф-ції, яка створена для застосування функцій над iterable обʼєктами. Результат виведіть на екран у вигляді кортежу."
      ],
      "metadata": {
        "id": "USrzrk7GCedk"
      }
    },
    {
      "cell_type": "code",
      "source": [
        "str_list = [\"some_text\", \"a_some_text\", \"more_text\", \"more_text\"]\n",
        "cappital_list = tuple(map(lambda elem: elem[0].upper(), str_list))\n",
        "print(cappital_list)"
      ],
      "metadata": {
        "id": "M8QWUsMlCjWH",
        "colab": {
          "base_uri": "https://localhost:8080/"
        },
        "outputId": "649b5c72-7ffe-4a24-c1b8-258a54153148"
      },
      "execution_count": 101,
      "outputs": [
        {
          "output_type": "stream",
          "name": "stdout",
          "text": [
            "('S', 'A', 'M', 'M')\n"
          ]
        }
      ]
    },
    {
      "cell_type": "markdown",
      "source": [
        "10. (10б) Визначте список з числовими значеннями (і цілими, і з рухомою комою). а) Відфільтруйте всі числа, які діляться націло на 3 за допомогою вбудованої функції та анонімної функції в якості аргумента). Збережіть результат у змінній, не приводяти явно до будь-якого типу. б) Використовуючи результат на кроці 12.а у якості аргументу, та за допомогою лямбда-функції в якості іншого аргументу до вбудованої функції, додайте до кожного елементу число 1 та опісля зведіть у квадрат. Остаточний результат приведіть явно до списку та виведіть на екран."
      ],
      "metadata": {
        "id": "9fyUhXOoCtGp"
      }
    },
    {
      "cell_type": "code",
      "source": [
        "nums_list = [1,1.2, 2, 3, 4.5, 5, 66, 0.75, 3.33, 963.0]\n",
        "\n",
        "filter_res = filter(lambda elem : (elem % 3) == 0, nums_list)\n",
        "mapped_list = map(lambda elem: (elem + 1) ** 2, filter_res)\n",
        "print(list(mapped_list))\n"
      ],
      "metadata": {
        "id": "exEx2_okCsql",
        "colab": {
          "base_uri": "https://localhost:8080/"
        },
        "outputId": "11c593f3-3b08-49ba-e009-c07aed4af469"
      },
      "execution_count": 102,
      "outputs": [
        {
          "output_type": "stream",
          "name": "stdout",
          "text": [
            "[16, 4489, 929296.0]\n"
          ]
        }
      ]
    },
    {
      "cell_type": "markdown",
      "source": [
        "# III. Decorators."
      ],
      "metadata": {
        "id": "o_x8cG_WC7jp"
      }
    },
    {
      "cell_type": "markdown",
      "source": [
        "11. (11б) Визначте декоратор, який би виводив у консоль повідомлення про початок роботи і назву функції (напр. my_function._ _ name _ _), а після відпрацювання функції - повідомлення про закінчення роботи і назву функції, що задекорована."
      ],
      "metadata": {
        "id": "mhxS4-mfC8LQ"
      }
    },
    {
      "cell_type": "code",
      "source": [
        "def do_decorator(func):\n",
        "    print(\"Start working\")\n",
        "    print(\"Function name:{}\".format(func.__name__))\n",
        "\n",
        "    def decorated_function(*args, **kwargs):\n",
        "        res = func(*args, **kwargs)\n",
        "        print(\"Ended work\")\n",
        "        print(\"Decorated function name:{}\".format(func.__name__))\n",
        "        return res\n",
        "\n",
        "    return decorated_function\n",
        "\n",
        "\n",
        "def do_something(some_param):\n",
        "    some_res = (some_param + 1) ** 2\n",
        "    print(some_res)\n",
        "    return some_res * 100\n",
        "\n",
        "\n",
        "\n",
        "decored_func = do_decorator(do_something);\n",
        "print(decored_func(2))\n",
        "print(decored_func(4))"
      ],
      "metadata": {
        "id": "srd1ygWjDGhO",
        "colab": {
          "base_uri": "https://localhost:8080/"
        },
        "outputId": "9fe3e0d1-e69d-4ef0-da64-1ccfb3966abd"
      },
      "execution_count": 103,
      "outputs": [
        {
          "output_type": "stream",
          "name": "stdout",
          "text": [
            "Start working\n",
            "Function name:do_something\n",
            "9\n",
            "Ended work\n",
            "Decorated function name:do_something\n",
            "900\n",
            "25\n",
            "Ended work\n",
            "Decorated function name:do_something\n",
            "2500\n"
          ]
        }
      ]
    },
    {
      "cell_type": "markdown",
      "source": [
        "12. (4б) Задекоруйте двома різними способами функції з завдання 4 та 5 декоратором із завдання 11. (**УВАГА**: не декоруйте функції двічі!)."
      ],
      "metadata": {
        "id": "rxGZwVBiDph3"
      }
    },
    {
      "cell_type": "code",
      "source": [
        "\n",
        "@do_decorator\n",
        "def funct_from_4(arg1, arg2):\n",
        "    my_div(arg1, arg2)\n",
        "\n",
        "funct_from_5 = do_decorator(my_subtract)"
      ],
      "metadata": {
        "id": "06lj7eq_DwZe",
        "colab": {
          "base_uri": "https://localhost:8080/"
        },
        "outputId": "c80a598d-4fc8-4cc7-b069-79745fe92fd3"
      },
      "execution_count": 119,
      "outputs": [
        {
          "output_type": "stream",
          "name": "stdout",
          "text": [
            "Start working\n",
            "Function name:funct_from_4\n",
            "Start working\n",
            "Function name:my_subtract\n"
          ]
        }
      ]
    },
    {
      "cell_type": "markdown",
      "source": [
        "13. (2б) Викличте одну з задекорованих функцій і виведіть її результат на екран."
      ],
      "metadata": {
        "id": "P0ep1urBDzf-"
      }
    },
    {
      "cell_type": "code",
      "source": [
        "print(funct_from_4(10, 5))\n",
        "print(funct_from_4(10, 0))\n",
        "\n",
        "print(funct_from_5(10, 5))\n",
        "print(funct_from_5(10))"
      ],
      "metadata": {
        "id": "1QvTw0ctD0S3",
        "colab": {
          "base_uri": "https://localhost:8080/"
        },
        "outputId": "8ecebad4-21cc-43a3-c5ab-2909e6b00923"
      },
      "execution_count": 120,
      "outputs": [
        {
          "output_type": "stream",
          "name": "stdout",
          "text": [
            "Ended work\n",
            "Decorated function name:funct_from_4\n",
            "None\n",
            "Ended work\n",
            "Decorated function name:funct_from_4\n",
            "None\n",
            "Ended work\n",
            "Decorated function name:my_subtract\n",
            "5\n",
            "Ended work\n",
            "Decorated function name:my_subtract\n",
            "9\n"
          ]
        }
      ]
    },
    {
      "cell_type": "markdown",
      "source": [
        "# IV. Recursion."
      ],
      "metadata": {
        "id": "poECCpuoD2S9"
      }
    },
    {
      "cell_type": "markdown",
      "source": [
        "14. (4б) Назвіть дві частини функції, які є обовʼязковими для того, щоб називати її рекурсивною."
      ],
      "metadata": {
        "id": "DqkURfdsD7MY"
      }
    },
    {
      "cell_type": "markdown",
      "source": [
        "Стартовий випадок(база індукції), рекурсивний виклик(крок індукції)"
      ],
      "metadata": {
        "id": "HYW6ttIeIQIU"
      }
    },
    {
      "cell_type": "markdown",
      "source": [
        "15. (15б) Визначте функцію, яка рекурсивно реалізовує пошук числа у послідовності Фібоначчі за її індексом (нумерація починається з нуля). Наприклад, потрібно знайти перше число у послідовності, тоді функція прийматиме 0 у якості аргумента і повертатиме 1, якщо ж знаходити третє число (індекс 2) послідовності, то функція повертатиме 2, якщо ж знаходити десяте число (індекс 9), то функція повертатиме 55."
      ],
      "metadata": {
        "id": "WYVt20UmEA35"
      }
    },
    {
      "cell_type": "code",
      "source": [
        "def fib_recur(indx):\n",
        "    if indx < 0:\n",
        "        return \"negative index\"\n",
        "    elif indx == 0 or indx == 1:\n",
        "        return 1\n",
        "    else:\n",
        "        return fib_recur(indx - 1) + fib_recur(indx - 2)\n",
        "\n",
        "\n",
        "print(fib_recur(0))\n",
        "print(fib_recur(0) == 1)\n",
        "\n",
        "print(fib_recur(2))\n",
        "print(fib_recur(2) == 2)\n",
        "\n",
        "print(fib_recur(9))\n",
        "print(fib_recur(9) == 55)"
      ],
      "metadata": {
        "id": "xIMhp05AIpV_",
        "colab": {
          "base_uri": "https://localhost:8080/"
        },
        "outputId": "16cc4a90-5663-41b7-ddb3-2d0b28c00224"
      },
      "execution_count": 123,
      "outputs": [
        {
          "output_type": "stream",
          "name": "stdout",
          "text": [
            "1\n",
            "True\n",
            "2\n",
            "True\n",
            "55\n",
            "True\n"
          ]
        }
      ]
    },
    {
      "cell_type": "markdown",
      "source": [
        "# Вітаю! Ви велика(ий) молодець, що впоралась(вся). Похваліть себе та побалуйте чимось приємним. Я Вами пишаюся."
      ],
      "metadata": {
        "id": "ytXC8n_4Ip0W"
      }
    }
  ]
}